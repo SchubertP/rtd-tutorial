{
 "cells": [
  {
   "cell_type": "markdown",
   "metadata": {},
   "source": [
    "# 1. Tutorial: Create iML1515 GECKO\n",
    "\n",
    "## General: \n",
    "In this set of tutorials you will learn to use the f2xba package to create and modify extended genome scale models, such as enzyme constraint GECKO (Sánchez, et al. 2017) models, resource balance constraint RBA (Bulović, et al. 2019; Goelzer, et al. 2011) models and thermodynamics constraint FBA (TFA) (Henry, et al. 2007; Salvy, et al. 2019), GECKO (TGECKO) and RBA (TRBA) models. This will be done by extending iML1515 (Monk, et al. 2017), the latest genome scale metabolic network reconstruction of Escherichia coli. \n",
    "You will also learn how to optimize extended genome scale models and how to process the optimization results, which are tasks supported by f2xba. \n",
    "\n",
    "While the tutorials includes both model creation and model optimization, these tasks are independent of each other. The model creation task will always create a stand-alone model coded in SBML (Hucka, et al. 2019), https://sbml.org . SBML is a standardized format which facilitates sharing of models and which is supported by many modeling and optimization tools. The SBML coded models can subsequently be loaded, optimized and analyzed with help of f2xba package.\n",
    "\n",
    "Optimization of an extended genome scale model not only determines values for the reaction fluxes, as in flux balance analysis, but also values for protein concentrations. We will use several minimal media conditions for model optimization with respect to maximum growth rate (Adadi, et al. 2012). Predicted growth rates will be compared against measured growth rates. However, mainly we will focus on predicted vs. measured protein mass levels (Schmidt, et al. 2016).\n",
    "\n",
    "Model optimization can be done using COBRApy (Ebrahim, et al. 2013a), which is a widely used package supporting genome scale model optimizations related to flux balance analysis (FBA). GECKO models can still be optimized using an open-source solver, like GLPK. More complex models might require high-quality commercial solver such as Gurobi or IBM CPLEX. Solvers should support both linear programming and mixed integer linear programming.\n",
    "\n",
    "Requirement: The `f2xba` modelling package needs to be installed from PyPI, e.g. via `pip --install f2xba`,  this also installs sbmlxdf and libSBML (Bornstein, et al. 2008). COBRApy is required for model optimization, which uses Optlang (Jensen, et al. 2017) to connect to different solvers. Optionally, gurobipy with Gurobi solver can be used, which has a better performance. See https://www.gurobi.com for licensing options and installation process. Note: At the time of writing, COBRApy (ver. 0.29.1) using Optlang (1.8.2) does not support latest Gurobi 12, due to incompatibilities in Optlang, instead use Gurobi 11 or lower versions.)\n",
    "\n",
    "Note: iML1515 is a well curated and annotated model, which facilitates the automated creation of extended models with limited manual configuration. Gene identifiers, used in the model, match with locus tags from the genome annotation, making it possible to automatically retrieve required data from NCBI genome and UniProt (The UniProt 2023) protein databases. Metabolites in the model are already linked to identifies in external databases. This will be exploited by f2xba, which uses KEGG (Kanehisa and Goto 2000) compound ids for retrieving predicted turnover numbers from TurNuP web portal (Kroll, et al. 2023) or link metabolites to thermodynamics data via SEED (Henry, et al. 2010) ids.\n",
    "\n",
    "There exist genome scale metabolic network reconstructions for many other organisms. Some of them do not yet include the linkages expected by the f2xba modelling tool e.g., gene identifiers do not match to locus tags on a genome annotation or metabolites are not yet linked to external databases. In such case the original genome scale model needs to be updated and the missing links need to be created. Such task is supported by the Python package sbmlxdf.\n",
    "\n",
    "**If you quickly want to generate a GECKO model of iML1515, you don’t need to read through all the text and background information.**\n",
    "\n",
    "## This tutorial\n",
    "\n",
    "In this 1st tutorial you will see how fast and easy it is to create an enzyme constraint GECKO model based on an existing genome scale metabolic model (FBA model). The GECKO model will be implemented according to the GECKO formulation (Sánchez, et al. 2017), with minor adjustments, which, we think, benefit the model structure. This first model mainly uses default parametrization, therefore very little manual configuration is required. Manual configurations will be coded explicitly. Alternatively, configuration files can be created and managed using a spreadsheet program, like Microsoft Excel.\n",
    " \n",
    "The model will be coded in standardized SBML and saved to file. COBRApy will be used to load and optimize the model across various growth conditions. We also provide code for loading and optimizing extended models using the gurobipy interface. Optimization results will be processed and analyzed using functions of f2xba. \n",
    "\n",
    "This first model will have a poor prediction performance. We will concentrate on predicting measured protein concentrations for our reference condition glucose. In subsequent tutorials we try improving the model configuration to improve prediction quality. \n",
    "\n",
    "Note: We executed the jupyter notebooks under following environment: MacBook Pro 2019, 2.4 GHz 8-Core Intel Core i9, 16 GB RAM,  macOS Sonoma 14.6.1, Python 3.10/3.11, COBRAPy 0.27.0, IBM cplex 22.1.1.0 (Python 3.10), Gurobi 11.0.2.\n",
    "\n",
    "Now, let’s start!\n",
    "\n",
    "Peter Schubert, Heinrich-Heine University Duesseldorf, Institute for Computational Cell Biology (M. Lercher), November, 2024"
   ]
  },
  {
   "cell_type": "markdown",
   "metadata": {},
   "source": [
    "### solver interface performance for complex models\n",
    "\n",
    "Model loading and optimization are significantly faster using the gurobipy interface when working with complex models, here a thermodynamics enabled RBA model of iML1515 (iML1515_TRBA.xml). COBRApy adds significant overhead. \n",
    "Less complex models have similar loading and optimization times, therefore we used the well known COBRApy interface for most of our model optimization tasks and provide code for guribipy interface as an alternative. Using COBRApy interface for model optimization of RBA and TRBA models requires an addional model loading step when creating the RbaOptimization instance, as we need to access SBML core objects that COBRApy are cannot access.\n",
    "\n",
    "Below measurements relate to optimization across 6 different growth conditions executed on MacBook Pro 2019 laptop, 2.4 GHz 8-Core Intel Core i9, 16 GB RAM, macOS Sonoma 14.6.1, Python 3.10/3.11, COBRAPy 0.27.0, IBM cplex 22.1.1.0 (Python 3.10), Gurobi 11.0.2\n",
    "\n",
    "|Interface|loading|optimization|\n",
    "|---------|-------|------------|\n",
    "|COBRApy  |  172 s|      1225 s|\n",
    "|gurobipy |   37 s|       195 s|"
   ]
  },
  {
   "cell_type": "markdown",
   "metadata": {},
   "source": [
    "## Step 1: Initial Setup\n",
    "\n",
    "1.1 create directory structure  \n",
    "1.2 download iML1515.xml (*E. coli* genome scale metabolic model) from BiGG Models database  \n",
    "1.3 import required packages and set model names  "
   ]
  },
  {
   "cell_type": "markdown",
   "metadata": {},
   "source": [
    "### 1.1 create directory structure\n",
    "The working directory `.` should contain:\n",
    "1. jupyter notebooks for this tutorial\n",
    "2. a proteomics file named `Ecoli_Schmidt_proteomics.xlsx`, which is based on quantitative proteomics from Schmidt, *et al.* 2016 \n",
    "3. a thermodynamic database `thermo_data.thermodb`, which is used by pyTFA (Salvy, *et al.* 2019), downloaded from https://github.com/EPFL-LCSB/pytfa/blob/master/data/thermo_data.thermodb.\n",
    "\n",
    "Following directories will be required: \n",
    "- `./data`: data files required for model generation, including model configuration files\n",
    "- `./SBML_models`: models coded in SBML\n",
    "- `./xlsx_models`: models converted to table format and stored in Excel spreadsheet format\n",
    "- `./escher`: reaction fluxes, protein and metabolite concentrations stored in a format compliant with Escher maps\n",
    "- `./plots`: growth rates and proteomics correlation plots stored in PDF format\n",
    "- `./tmp`: temporary files, which can be deleted"
   ]
  },
  {
   "cell_type": "code",
   "execution_count": 1,
   "metadata": {},
   "outputs": [],
   "source": [
    "# Create directory structure\n",
    "import os\n",
    "\n",
    "for directory in ['data', 'SBML_models', 'xlsx_models', 'escher', 'plots', 'tmp']:\n",
    "    if not os.path.exists(directory):\n",
    "        os.makedirs(directory)\n",
    "        print(f'{directory} created')"
   ]
  },
  {
   "cell_type": "markdown",
   "metadata": {},
   "source": [
    "### 1.2 download iML1515.xml \n",
    "\n",
    "- go to BiGG Models (http://bigg.ucsd.edu/models/iML1515); Model: *i*ML1515 of *E. coli* str. K-12 substr. MG1655\n",
    "- under ‘Download COBRA model from the BiGG Database’, download SBML: `iML1515.xml`\n",
    "- store the model in subdirectory `./SBML_models`"
   ]
  },
  {
   "cell_type": "markdown",
   "metadata": {},
   "source": [
    "### 1.3 import required packages and set model names\n",
    "\n",
    "required imports:\n",
    "- `f2xba.XbaModel`: Main class in extended modelling, managing the model extension process, starting from a genome scale metabolic (FBA) model. Also managing data from external resources, like UniProt.\n",
    "- `f2xba.EcModel`: specific class for enzyme constraint modelling, such as creation of GECKO models.\n",
    "- `f2xba.utils.mapping_utils.write_parameter_file`: a helper function to write parameter files.\n",
    "\n",
    "model names:\n",
    "- `fba_model`: the name of our original genome scale metabolic model that we extend (without `.xml`).\n",
    "- `target_model`: the name of the extended model."
   ]
  },
  {
   "cell_type": "code",
   "execution_count": 2,
   "metadata": {},
   "outputs": [],
   "source": [
    "# Required imports and model names\n",
    "import os\n",
    "import pandas as pd\n",
    "\n",
    "from f2xba import XbaModel, EcModel\n",
    "from f2xba.utils.mapping_utils import write_parameter_file\n",
    "\n",
    "# Model names\n",
    "fba_model = 'iML1515'\n",
    "target_model = 'iML1515_default_GECKO'"
   ]
  },
  {
   "cell_type": "markdown",
   "metadata": {},
   "source": [
    "## Step 2: Create configuration files\n",
    "\n",
    "Extended models require additional parameters, such as enzyme turnover numbers or stoichiometries of enzyme composition. Finding ‘good’ values for these parameters is one of the major problems associated with generation of extended models. The f2xba modelling tool can help by automating part of this process. \n",
    "\n",
    "Parameter values can be defined in configuration files (Excel spreadsheet format). They can also be retrieved automatically from databases, as long there exists proper referencing.\n",
    "\n",
    "Our first GECKO model of iML1515 shall be created with minimal configuration:  \n",
    "2.1 create XBA configuration file  \n",
    "2.2 create ECM configuration file\n",
    "\n",
    "Once we have our first GECKO model, we will try to modify certain parameter values to achieve ‘better’ model predictions (see subsequent tutorials).\n",
    "\n",
    "Note: Parameter file creation and modification will be coded in Python. However, users might find it more convenient to create and modify configuration files directly using a spreadsheet application like Microsoft Excel."
   ]
  },
  {
   "cell_type": "markdown",
   "metadata": {},
   "source": [
    "### 2.1 create XBA configuration file\n",
    "\n",
    "We always start the creation of an extended model with the instantiation and configuration of a XbaModel instance. This instance reads in the original SBML coded genome scale model (FBA) model and downloads online resources related to the model, such as UniProt protein data. Downloaded data will be stored in the `./data` directory. Further, enzyme catalyzed reactions get split in forward/reverse directions and split per catalyzing isoenzymes. This is required to couple any flux through a given reaction to an allocation requirement of the corresponding enzyme or isoenzyme. \n",
    "\n",
    "The **XBA configuration file** for our first GECKO model contains following data tables and data:\n",
    "- `generals` table with parameters:\n",
    "    - `default_metabolic_kcat`: default kcat value (turnover number) for metabolic enzymes in s-1.\n",
    "    - `default_transporter_kcat`: default kcat value for transporters. Here, transporters are defined as enzymes catalyzing reactions, were reactants/products of different compartments participate.\n",
    "    - `organism_dir`: directory where organism specific data, downloaded from online databases, will be stored.\n",
    "    - `organism_id`: the NCBI taxonomic id of the organism. Used to retrieve protein data from UniProt. \n",
    "    - `biocyc_org_prefix`: organism id in BioCyc database (Karp, et al. 2017). When provided, enzyme composition will be loaded from BioCyc, otherwise enzyme composition will default to 1 unit of participating protein.\n",
    "- `remove_gps` table \n",
    "    - this table contains records with gene products to be removed from the original model. Here, we remove the dummy protein `G_s0001`, which is used in the FBA model for some spontaneous (iso-)reactions. \n",
    "    - configuration tables can contain additional columns, which will not be used by f2ba. Here, we add a `notes` column with information on the specific record.\n",
    "\n",
    "GECKO models for **other organisms**:\n",
    "- `organism_id` can be queried from the NCBI the taxonomy database (Schoch, et al. 2020) (https://www.ncbi.nlm.nih.gov/Taxonomy/Browser/wwwtax.cgi). Note, that gene products in the model need to link to the corresponding UniProt records, either via a UniProt annotation reference on the gene product in the FBA model or via a matching gene locus id. \n",
    "- There will be situations, where the organism in questions has no related UniProt entries. What can we do? One solution would be to manually generate a pseudo-UniProt file e.g., based on a protein BLAST, and store it in `./data`. Alternatively, f2xba can extract protein related information from NCBI genome data. See tutorial on RBA how to configure retrieval of NCBI genome data.\n",
    "- `biocyc_org_prefix` should only be configured, if BioCyc contains well curated data for the organism in question, including details on the exact enzyme composition.\n",
    "- Due to genome reannotations, we could have gene products in the model, that do not have corresponding UniProt record, these gene products could be removed from the model in table `remove_gps`."
   ]
  },
  {
   "cell_type": "code",
   "execution_count": 3,
   "metadata": {},
   "outputs": [
    {
     "name": "stdout",
     "output_type": "stream",
     "text": [
      "2 table(s) with parameters written to  data/iML1515_default_GECKO_xba_parameters.xlsx\n"
     ]
    }
   ],
   "source": [
    "# Create XBA parameter file\n",
    "xba_params = {}\n",
    "data = [['default_metabolic_kcat', 12.5], \n",
    "        ['default_transporter_kcat', 100.0],  \n",
    "        ['organism_dir', 'data'], \n",
    "        ['organism_id', 83333], \n",
    "        ['biocyc_org_prefix', 'ecoli']]\n",
    "xba_params['general'] = pd.DataFrame(data, columns=['parameter', 'value']).set_index('parameter')\n",
    "\n",
    "data = [['G_s0001', 'dummy gene product - spontaneous reactions']]\n",
    "xba_params['remove_gps'] = pd.DataFrame(data, columns=['gp_id', 'notes']).set_index('gp_id')\n",
    "write_parameter_file(os.path.join('data', f'{target_model}_xba_parameters.xlsx'), xba_params)"
   ]
  },
  {
   "cell_type": "markdown",
   "metadata": {},
   "source": [
    "### 2.2 create ECM configuration file\n",
    "\n",
    "Enzyme constraint models are created based on a configured XbaModel instance and using an EcModel instance, which subsequently is configured with parameters related enzyme constraint models.\n",
    "\n",
    "The **ECM configuration file** for a GECKO model contains a single table:\n",
    "- `generals` table with parameters:\n",
    "    - `ecm_type`: enzyme constraint model type we plan to create, 'GECKO',  'ccFBA',  'MOMENT' or 'MOMENTmr'. \n",
    "    - parameters related to the overall protein constraint:\n",
    "        - `avg_enz_sat`: average enzyme saturation level used for all enzymes. As detailed metabolite concentrations are not modelled, an average saturation level, applicable to all enzymatic reactions, is configured. Depending on kcat values, this saturation level can even be greater 1.0. The value used is based on manually fitting the growth rates to experimental data (see 3rd tutorial).\n",
    "        - `p_total`: protein mass fraction with respect to cellular dry mass in gPtot / gDW. We assume the FBA model is normalized by cellular dry mass gDW i.e., reaction flux in mmol / gDWh. The value used was calculated based on literature (Bremer and Dennis 2008) for a doubling time of 60 minutes.\n",
    "        - `pm2totpm_val_or_paxdb`: mass fraction of modelled protein vs. total protein in gPmodelled/gPtot. Extended models explicitly model only a part of all proteins that exist in the organism. The value used was calculated based on proteomics data (Schmidt, et al. 2016) for growth on Glucose.\n",
    "    - **overall protein constraint in the GECKO model** is formulated as $\\sum{p_i} ≤ p_{total}$\n",
    "        - $p_i$: individual protein concentrations in mg/gDW\n",
    "        - $p_{total}$: total (modelled) protein concentration in mg/gDW\n",
    "            - $p_{total} = \\text{p_total} \\cdot \\text{pm2totpm} * 1000.0 = 0.57 * 0.5557 * 1000 = 316.75$ in mg/gDW\n",
    "        - we use '$=$' instead of '$≤$'\n",
    "\n",
    "GECKO models for **other organisms**:\n",
    "- `p_total`: value could be retrieved from experimental data related to cell dry mass composition.\n",
    "- `pm2totpm_val_or_paxdb`: value could be calculated using quantitative proteomics data, as a ratio of protein mass related to gene products in the model over total protein mass. Alternatively, f2xba can automatically determine this value base on a PaxDb protein abundance file (see next tutorial)."
   ]
  },
  {
   "cell_type": "code",
   "execution_count": 4,
   "metadata": {},
   "outputs": [
    {
     "name": "stdout",
     "output_type": "stream",
     "text": [
      "1 table(s) with parameters written to  data/iML1515_default_GECKO_ecm_parameters.xlsx\n"
     ]
    }
   ],
   "source": [
    "# Create ECM parameter file\n",
    "ecm_params = {}\n",
    "data = [['ecm_type', 'GECKO'], \n",
    "        ['arm_flag', False], \n",
    "        ['avg_enz_sat', 0.99], \n",
    "        ['p_total', 0.57], \n",
    "        ['pm2totpm_val_or_paxdb', 0.5557]]\n",
    "ecm_params['general'] = pd.DataFrame(data, columns=['parameter', 'value']).set_index('parameter')\n",
    "write_parameter_file(os.path.join('data', f'{target_model}_ecm_parameters.xlsx'), ecm_params)"
   ]
  },
  {
   "cell_type": "markdown",
   "metadata": {},
   "source": [
    "## Step 3: Create GECKO model\n",
    "\n",
    "Once we configured the required configuration files, model creation is easy. The individual steps are:\n",
    "- instantiate XbaModel with the file name of the SBML coded FBA model\n",
    "    - configure the XBA model with the XBA parameter file we just created\n",
    "- instantiate an EcModel with the XbaModel instance\n",
    "    - configure the EcModel instance with the ECM parameter file we just created\n",
    "- optionally, validate our extended model with respect to SBML compliance. (Note: in upcoming tutorials we will omit this step)\n",
    "    - number of validation errors would be indicated and warnings/errors details written to './tmp/tmp.txt' \n",
    "    - validation includes correctness of units configured on model components.\n",
    "- export our extended model to SBML format\n",
    "    - optionally, export the model to Excel spreadsheet. This allows for model inspect in a tabular formate.\n",
    "- the process should end successfully with a the message `model exported to SBML:`\n",
    "\n",
    "Our model, coded in standardized SBML, is stand-alone. It contains all information relevant for downstream processing and optimization, including all the rich annotation data from the original FBA model. This model can be shared and may be processed by different tools supporting the SBML standard. \n",
    "\n",
    "Extended model optimization goes beyond FBA model optimization. In theory, our extended models can be optimized by any optimization tool capable of processing SBML coded models, including tools implemented in different programming environments than Python. While any FBA optimization tool should be capable to optimize pure GECKO models, other extended models containing thermodynamic constraints and/our resource balance constraints would require additional code to configure variables, constraints and matrix coefficients, of the optimization problem. We therefore recommend to use f2xba for extended model optimization. f2xba also included functions to access information stored in the model and functions to present the optimization results in suitable formats that facilitate analysis.\n",
    "\n",
    "GECKO models for **other organisms**:\n",
    "- When things go wrong, you should check the information messages printed. In some cases, the configuration files cannot be found or configuration data is incorrect, in other cases f2xba cannot correctly link model components to external references. It could be some work to resolve such issues and might require modifying/updating the initial FBA model.\n",
    "- model validation is always recommended, when an extended model of a new organism is created for the first time."
   ]
  },
  {
   "cell_type": "code",
   "execution_count": 5,
   "metadata": {},
   "outputs": [
    {
     "name": "stdout",
     "output_type": "stream",
     "text": [
      "loading: SBML_models/iML1515.xml (last modified: Thu Dec  5 10:03:46 2024)\n",
      "2 table(s) with parameters loaded from data/iML1515_default_GECKO_xba_parameters.xlsx (Fri Feb  7 15:10:36 2025)\n",
      "   1 gene product(s) removed from reactions (1515 gene products remaining)\n",
      "extracting UniProt protein data from data/uniprot_organism_83333.tsv\n",
      "1515 proteins created\n",
      "1243 enzymes added with default stoichiometry\n",
      "3855 enzymes extracted from Biocyc\n",
      "1237 enzyme compositions updated from Biocyc Enzyme data\n",
      "2229 reactions catalyzed by 1243 enzymes\n",
      "default kcat values configured for ['metabolic', 'transporter'] reactions\n",
      "   0 enzymes removed due to missing kcat values\n",
      "1877 constraints (+0); 2712 variables (+0); 1515 genes (-1); 5 parameters (+0)\n",
      ">>> BASELINE XBA model configured!\n",
      "\n",
      "1 table(s) with parameters loaded from data/iML1515_default_GECKO_ecm_parameters.xlsx (Fri Feb  7 15:10:36 2025)\n",
      "modeled protein fraction of total protein mass 0.5557 g/g\n",
      "1515 protein constraints to add\n",
      "1515 constraint ids added to the model (3392 total constraints)\n",
      "protein constraint: 316.75 mg/gDW - modeled protein\n",
      "   1 constraint ids added to the model (3393 total constraints)\n",
      "1516 protein variables to add\n",
      "1516 variable ids added to the model (7372 total variables)\n",
      "3393 constraints (+1516); 7372 variables (+4660); 1515 genes (-1); 11 parameters (+6)\n",
      "model exported to SBML: SBML_models/iML1515_default_GECKO.xml\n",
      "model exported to Excel Spreadsheet: xlsx_models/iML1515_default_GECKO.xlsx\n"
     ]
    },
    {
     "data": {
      "text/plain": [
       "True"
      ]
     },
     "execution_count": 5,
     "metadata": {},
     "output_type": "execute_result"
    }
   ],
   "source": [
    "# Load GEM and extend the model with data from parameters file\n",
    "xba_model = XbaModel(os.path.join('SBML_models', f'{fba_model}.xml'))\n",
    "xba_model.configure(os.path.join('data', f'{target_model}_xba_parameters.xlsx'))\n",
    "\n",
    "# Create enzyme constraint models based on extended GEM with data from parameter file\n",
    "ec_model = EcModel(xba_model)\n",
    "ec_model.configure(os.path.join('data', f'{target_model}_ecm_parameters.xlsx'))\n",
    "\n",
    "#if ec_model.validate():\n",
    "ec_model.export(os.path.join('SBML_models', f'{target_model}.xml'))\n",
    "ec_model.export(os.path.join('xlsx_models', f'{target_model}.xlsx')) # convert model to Excel"
   ]
  },
  {
   "cell_type": "markdown",
   "metadata": {},
   "source": [
    "### (optional) model inspection \n",
    "In case you are interested how the GECKO model is formulated (Sánchez, et al. 2017), open `iML1515_default_GECKO.xlsx` with a spreadsheet application, like Microsoft Excel. Select the sheet ‘reactions’ and filter reactions related to ‘Phosphoglycerate mutase’ (PGM). In the FBA model, PGM is formulated as a single reversible reaction, catalyzed by two iso-enzymes. In GECKO PGM is split into 6 sub-reactions. 3 reactions for the forward direction (R_FBA_arm, R_FBA_iso1 and R_FBA_iso2) and 3 reactions for the reverse direction (R_FBA_arm_REV, R_FBA_iso1_REV, R_FBA_iso2_REV). In the forward direction we have separate reactions per iso-enzyme (R_FBA_iso1, R_FBA_iso2). We also have an ‘arm’ reaction (R_FBA_arm) to control the summary flux through the iso-reactions, coupled through a pseudo-metabolite (M_pmet_PGM_c). Same applies for the reverse direction. The iso-reactions are further coupled to protein usage constraints.\n"
   ]
  },
  {
   "cell_type": "markdown",
   "metadata": {},
   "source": [
    "---\n",
    "---\n",
    "## Step 4: Load and optimize GECKO model (COBRApy)\n",
    "\n",
    "Let us optimize our GECKO model across different growth media. The optimization solver should determine feasible values for all variables in the model, with the objective of maximizing the growth rate (maximizing flux through the biomass reactions). The variables in this GECKO model are reaction fluxes, in units mmol/gDWh, and protein concentrations, in units mg/gDW. \n",
    "\n",
    "The f2xba framework supports two interfaces for optimization. We will focus on COBRApy. You might be familiar with COBRApy, when optimizing FBA models. Should you have installed gurobipy and the Gurobi solver, you also can try the second supported interface, described at the end of this notebook, which is a direct interface to Gurobi.\n",
    "\n",
    "We proceed as follows:  \n",
    "4.1 import required packages and set model name\n",
    "4.2 model loading\n",
    "4.3 set media conditions\n",
    "4.4 model optimization"
   ]
  },
  {
   "cell_type": "markdown",
   "metadata": {},
   "source": [
    "### 4.1 import required packages and set model name\n",
    "\n",
    "required imports:\n",
    "- `cobra`: COBRApy package used for model optimization. Alternatively, the gurobipy interface can be used, which is described further down.\n",
    "- `f2xba.EcmOptimization`: Class that provides access to information coded in the model file and support of optimization tasks. \n",
    "- `f2xba.EcmResults`: Class that supports results analysis.\n",
    "- `f2xba.utils.mapping_utils.load_parameter_file`: a helper function to load parameter files."
   ]
  },
  {
   "cell_type": "code",
   "execution_count": 6,
   "metadata": {},
   "outputs": [],
   "source": [
    "# Required imports and model names\n",
    "import os\n",
    "import re\n",
    "import pandas as pd\n",
    "import cobra\n",
    "\n",
    "from f2xba import EcmOptimization, EcmResults\n",
    "from f2xba.utils.mapping_utils import load_parameter_file, write_parameter_file\n",
    "\n",
    "# Model name\n",
    "target_model = 'iML1515_default_GECKO'"
   ]
  },
  {
   "cell_type": "markdown",
   "metadata": {},
   "source": [
    "### 4.2 model loading\n",
    "\n",
    "First, we load the GECKO model into COBRApy using `cobra.io.read_sbml_model()`. Second, we load the model with f2xba `EcmOptimization()`, where we provide the cobra model instance as a parameter. Extended model types, other than pure GECKO, require the EcmOptimization instance to configure parameters of the cobra model instance.\n",
    "\n",
    "Though COBRApy can optimize pure GECKO models without additional coding, we still recommend loading the model also with f2xba, so we benefit from the presentation of the optimization results."
   ]
  },
  {
   "cell_type": "code",
   "execution_count": 7,
   "metadata": {},
   "outputs": [
    {
     "name": "stdout",
     "output_type": "stream",
     "text": [
      "Set parameter Username\n",
      "Academic license - for non-commercial use only - expires 2025-04-22\n",
      "SBML model loaded by sbmlxdf: SBML_models/iML1515_default_GECKO.xml (Fri Feb  7 15:11:01 2025)\n",
      "total modeled protein: 316.75 mg/gDW, average saturation level: 0.99\n",
      "1515 genes: (498) transporter, (1017) metabolic\n"
     ]
    }
   ],
   "source": [
    "# Load model using COBRApy\n",
    "fname = os.path.join('SBML_models', f'{target_model}.xml')\n",
    "ecm = cobra.io.read_sbml_model(fname)\n",
    "total_protein = ecm.reactions.get_by_id('V_PC_total').upper_bound\n",
    "\n",
    "# Load SBML model also with EcmOptimization\n",
    "eo = EcmOptimization(fname, ecm)\n",
    "sigma = eo.avg_enz_saturation\n",
    "all_genes = set(eo.m_dict['fbcGeneProducts']['label'].values)\n",
    "tx_genes, metab_genes = eo.get_tx_metab_genes()\n",
    "print(f'total modeled protein: {total_protein:.2f} mg/gDW, average saturation level: {sigma}')\n",
    "print(f'{len(all_genes)} genes: ({len(tx_genes)}) transporter, ({len(metab_genes)}) metabolic')"
   ]
  },
  {
   "cell_type": "markdown",
   "metadata": {},
   "source": [
    "### 4.3 create media conditions for optimization\n",
    "\n",
    "We will optimize our models across different media conditions. Here we create 6 minimal media conditions and set experimental growth rates (Adadi, et al. 2012). Each condition consists of a base medium plus one carbon source. Respective uptake reactions, ‘exchange reactions’, are configured with ‘unlimited’ uptake. This is different to FBA, where some uptake rates are limited e.g., main carbon sources.\n",
    "\n",
    "We also define a reference condition on which we will focus in this and subsequent tutorials. "
   ]
  },
  {
   "cell_type": "code",
   "execution_count": 8,
   "metadata": {},
   "outputs": [
    {
     "name": "stdout",
     "output_type": "stream",
     "text": [
      "6 minimal media conditions created for simulation\n"
     ]
    }
   ],
   "source": [
    "# Create media conditions\n",
    "media_grs = {'Acetate': ['ac', 0.29], 'Glycerol': ['glyc', 0.47], 'Fructose': ['fru', 0.54], \n",
    "             'L-Malate': ['mal__L', 0.55], 'Glucose': ['glc__D', 0.66], 'Glucose 6-Phosphate': ['g6p', 0.78]}\n",
    "base_medium = ['ca2', 'cbl1', 'cl', 'co2', 'cobalt2', 'cu2', 'fe2', 'fe3', 'h2o', 'h', 'k', 'mg2', \n",
    "               'mn2', 'mobd', 'na1', 'nh4', 'ni2', 'o2', 'pi', 'sel', 'slnt', 'so4', 'tungs', 'zn2']\n",
    "conditions = {}\n",
    "exp_grs = {}\n",
    "for cond, (carbon_sid, exp_gr) in media_grs.items():\n",
    "    conditions[cond] = {f'EX_{sidx}_e': 1000.0 for sidx in base_medium}\n",
    "    conditions[cond][f'EX_{carbon_sid}_e'] = 1000.0\n",
    "    exp_grs[cond] = exp_gr\n",
    "print(f'{len(conditions)} minimal media conditions created for simulation')\n",
    "reference_cond = 'Glucose'"
   ]
  },
  {
   "cell_type": "markdown",
   "metadata": {},
   "source": [
    "### 4.2 model optimization\n",
    "\n",
    "This is a standard optimization loop. We iterate through the different media conditions, set the medium, optimize the model and record the optimization results in `pred_results`. A COBRApy model context (with statement) is used. Predicted growth rates are compared with measured growth rates."
   ]
  },
  {
   "cell_type": "code",
   "execution_count": 9,
   "metadata": {},
   "outputs": [
    {
     "name": "stdout",
     "output_type": "stream",
     "text": [
      "Acetate                  : pred gr: 0.261 h-1 vs. exp 0.290, diff: -0.029\n",
      "Glycerol                 : pred gr: 0.569 h-1 vs. exp 0.470, diff:  0.099\n",
      "Fructose                 : pred gr: 0.575 h-1 vs. exp 0.540, diff:  0.035\n",
      "L-Malate                 : pred gr: 0.603 h-1 vs. exp 0.550, diff:  0.053\n",
      "Glucose                  : pred gr: 0.691 h-1 vs. exp 0.660, diff:  0.031\n",
      "Glucose 6-Phosphate      : pred gr: 0.648 h-1 vs. exp 0.780, diff: -0.132\n"
     ]
    }
   ],
   "source": [
    "# Optimize model using COBRApy\n",
    "pred_results = {}\n",
    "for cond, medium in conditions.items():\n",
    "    with ecm as model:    \n",
    "        model.medium = medium \n",
    "        solution = model.optimize()\n",
    "        if solution.status == 'optimal':\n",
    "            gr = solution.objective_value\n",
    "            pred_results[cond] = solution\n",
    "            print(f'{cond:25s}: pred gr: {gr:.3f} h-1 vs. exp {exp_grs[cond]:.3f}, '\n",
    "                  f'diff: {gr - exp_grs[cond]:6.3f}')\n",
    "        else:    \n",
    "            print(f'{cond} ended with status {solution.status}')"
   ]
  },
  {
   "cell_type": "markdown",
   "metadata": {},
   "source": [
    "## Step 5: Analyze results\n",
    "\n",
    "During optimization, results have been collected in `pred_results`. Results contain the ‘raw’ variable values determine during the optimization process, these include the reaction fluxes and protein concentrations. Different from FBA, the reaction fluxes are now fluxes specific to each individual iso-reaction and flux direction, as these are variables of the optimization problem. Though it is possible to directly interpret the ‘raw’ variable values, it is more convenient using f2xba methods to present the results in suitable formats.\n",
    "\n",
    "First, we load quantitative proteomics data to which we can compare our protein level predictions. Then we have instantiate `EcmResults`, which provide access to result processing methods. Finally we use different methods to retrieve optimization results."
   ]
  },
  {
   "cell_type": "markdown",
   "metadata": {},
   "source": [
    "### load proteomics data\n",
    "\n",
    "Extended models can predict protein concentrations and we intend to compare our predictions to experimental measurements. Quantitative proteomics data measured across several conditions for *E. coli* BW25113 (Schmidt, et al. 2016), a close relative to *E. coli* K-12 MG1655, has already been extracted in a format compatible with f2xba (`Ecoli_Schmidt_proteomics.xlsx`). We load the data from file into a pandas DataFrame, but filter out data points that have been measurements with low confidence (~ 5% of measured proteins, < 0.05% of total protein mass). \n",
    "\n",
    "Proteomics data **other organisms**:\n",
    "\n",
    "Usually, quantitative proteomics data for a specific organism and potentially for different conditions can be extracted from literature. However, you would have to convert the data into a table similar to the one provided here. The table must be indexed by gene locus and contain values of measured milligram protein per gram total protein (milli protein mass fraction or mpmf). Column names must correspond to the media condition names. The table may contain optional columns, which will be used when available, to add information to optimization results.\n",
    "- `uniprot`: Uniprot id of the protein.\n",
    "- `gene_name`: gene name.\n",
    "- `description`: description of the protein.\n",
    "- `mw_Da`: molecular weight in Dalton (g/mol).\n",
    "- `avg_mpmf`: average milli protein mass fraction across conditions.\n",
    "- `rank`: rank of average protein mass amongst other proteins.  \n",
    "\n",
    "Should you not have proteomics data available, you still can continue with results processing, however certain result will not be available."
   ]
  },
  {
   "cell_type": "code",
   "execution_count": 10,
   "metadata": {},
   "outputs": [
    {
     "name": "stdout",
     "output_type": "stream",
     "text": [
      "2347 records of proteomics loaded from Ecoli_Schmidt_proteomics.xlsx\n",
      "2232 records with confidence level above 43.0\n"
     ]
    }
   ],
   "source": [
    "# Load proteomics\n",
    "fname = 'Ecoli_Schmidt_proteomics.xlsx'\n",
    "with pd.ExcelFile(fname) as xlsx:\n",
    "    df_mpmf = pd.read_excel(xlsx, sheet_name='proteomics', index_col=0)\n",
    "    print(f'{len(df_mpmf)} records of proteomics loaded from {fname}')\n",
    "min_confidence_level = 43.0\n",
    "df_mpmf = df_mpmf[df_mpmf['confidence'] > min_confidence_level]\n",
    "print(f'{len(df_mpmf)} records with confidence level above {min_confidence_level}')"
   ]
  },
  {
   "cell_type": "markdown",
   "metadata": {},
   "source": [
    "### instantiate EcmResults\n",
    "\n",
    "EcmResults gives access to powerful results processing methods. During instantiation we provide a reference to the EcmOptimization instance, which has access to information stored in the model, a dictionary with our predicted results and optionally a DataFrame containing quantitative proteomics data for different conditions."
   ]
  },
  {
   "cell_type": "code",
   "execution_count": 11,
   "metadata": {},
   "outputs": [
    {
     "data": {
      "text/plain": [
       "7372"
      ]
     },
     "execution_count": 11,
     "metadata": {},
     "output_type": "execute_result"
    }
   ],
   "source": [
    "len(pred_results['Glucose'].fluxes)"
   ]
  },
  {
   "cell_type": "code",
   "execution_count": 12,
   "metadata": {},
   "outputs": [],
   "source": [
    "er = EcmResults(eo, pred_results, df_mpmf)"
   ]
  },
  {
   "cell_type": "markdown",
   "metadata": {},
   "source": [
    "### retrieve reaction fluxes\n",
    "\n",
    "With `collect_fluxes()` the metabolic reactions fluxes for all conditions are retrieved in a pandas DataFrame. Compared to reaction fluxes from FBA analyses, the fluxes are presented per sub-reaction.  \n",
    "\n",
    "`collect_fluxes(net=True)` aggregates the fluxes from sub-reaction, which is more compatible with reactions fluxes from FBA.\n",
    "\n",
    "Additional information columns, containing reaction string, gene product association or rank, are included. Use this to quickly query for specific rows e.g.:\n",
    "\n",
    "```Python code\n",
    "df_fluxes[df_fluxes['reaction_str'].str.contains('f6p') & abs(df_fluxes['Glucose']) > 0.0]\n",
    "```"
   ]
  },
  {
   "cell_type": "code",
   "execution_count": 13,
   "metadata": {},
   "outputs": [
    {
     "name": "stdout",
     "output_type": "stream",
     "text": [
      "5856 sub-reaction fluxes\n"
     ]
    },
    {
     "data": {
      "text/html": [
       "<div>\n",
       "<style scoped>\n",
       "    .dataframe tbody tr th:only-of-type {\n",
       "        vertical-align: middle;\n",
       "    }\n",
       "\n",
       "    .dataframe tbody tr th {\n",
       "        vertical-align: top;\n",
       "    }\n",
       "\n",
       "    .dataframe thead th {\n",
       "        text-align: right;\n",
       "    }\n",
       "</style>\n",
       "<table border=\"1\" class=\"dataframe\">\n",
       "  <thead>\n",
       "    <tr style=\"text-align: right;\">\n",
       "      <th></th>\n",
       "      <th>reaction_str</th>\n",
       "      <th>net_rid</th>\n",
       "      <th>gpr</th>\n",
       "      <th>rank</th>\n",
       "      <th>mean mmol_per_gDWh</th>\n",
       "      <th>abs_mean mmol_per_gDWh</th>\n",
       "      <th>stdev</th>\n",
       "      <th>Acetate</th>\n",
       "      <th>Glycerol</th>\n",
       "      <th>Fructose</th>\n",
       "      <th>L-Malate</th>\n",
       "      <th>Glucose</th>\n",
       "      <th>Glucose 6-Phosphate</th>\n",
       "    </tr>\n",
       "    <tr>\n",
       "      <th>rid</th>\n",
       "      <th></th>\n",
       "      <th></th>\n",
       "      <th></th>\n",
       "      <th></th>\n",
       "      <th></th>\n",
       "      <th></th>\n",
       "      <th></th>\n",
       "      <th></th>\n",
       "      <th></th>\n",
       "      <th></th>\n",
       "      <th></th>\n",
       "      <th></th>\n",
       "      <th></th>\n",
       "    </tr>\n",
       "  </thead>\n",
       "  <tbody>\n",
       "    <tr>\n",
       "      <th>ATPS4rpp_iso1</th>\n",
       "      <td>adp_c + 4.0 h_p + pi_c =&gt; atp_c + h2o_c + 3.0 h_c</td>\n",
       "      <td>ATPS4rpp</td>\n",
       "      <td>b3731 + b3732 + b3733 + b3734 + b3735 + b3736 ...</td>\n",
       "      <td>1</td>\n",
       "      <td>48.587854</td>\n",
       "      <td>48.587854</td>\n",
       "      <td>14.075611</td>\n",
       "      <td>46.119180</td>\n",
       "      <td>55.250156</td>\n",
       "      <td>34.702042</td>\n",
       "      <td>53.089517</td>\n",
       "      <td>70.072027</td>\n",
       "      <td>32.294203</td>\n",
       "    </tr>\n",
       "    <tr>\n",
       "      <th>H2Otpp_REV</th>\n",
       "      <td>h2o_c =&gt; h2o_p</td>\n",
       "      <td>H2Otpp</td>\n",
       "      <td>b0875</td>\n",
       "      <td>2</td>\n",
       "      <td>40.622445</td>\n",
       "      <td>40.622445</td>\n",
       "      <td>29.250112</td>\n",
       "      <td>22.869847</td>\n",
       "      <td>48.682121</td>\n",
       "      <td>29.427506</td>\n",
       "      <td>32.561850</td>\n",
       "      <td>95.645568</td>\n",
       "      <td>14.547780</td>\n",
       "    </tr>\n",
       "    <tr>\n",
       "      <th>CYTBO3_4pp</th>\n",
       "      <td>4.0 h_c + 0.5 o2_c + q8h2_c =&gt; h2o_c + 4.0 h_p...</td>\n",
       "      <td>CYTBO3_4pp</td>\n",
       "      <td>b0432 + b0431 + b0429 + b0430</td>\n",
       "      <td>3</td>\n",
       "      <td>36.506760</td>\n",
       "      <td>36.506760</td>\n",
       "      <td>18.778357</td>\n",
       "      <td>30.815127</td>\n",
       "      <td>33.887307</td>\n",
       "      <td>26.009866</td>\n",
       "      <td>29.454886</td>\n",
       "      <td>74.231822</td>\n",
       "      <td>24.641551</td>\n",
       "    </tr>\n",
       "  </tbody>\n",
       "</table>\n",
       "</div>"
      ],
      "text/plain": [
       "                                                    reaction_str     net_rid  \\\n",
       "rid                                                                            \n",
       "ATPS4rpp_iso1  adp_c + 4.0 h_p + pi_c => atp_c + h2o_c + 3.0 h_c    ATPS4rpp   \n",
       "H2Otpp_REV                                        h2o_c => h2o_p      H2Otpp   \n",
       "CYTBO3_4pp     4.0 h_c + 0.5 o2_c + q8h2_c => h2o_c + 4.0 h_p...  CYTBO3_4pp   \n",
       "\n",
       "                                                             gpr  rank  \\\n",
       "rid                                                                      \n",
       "ATPS4rpp_iso1  b3731 + b3732 + b3733 + b3734 + b3735 + b3736 ...     1   \n",
       "H2Otpp_REV                                                 b0875     2   \n",
       "CYTBO3_4pp                         b0432 + b0431 + b0429 + b0430     3   \n",
       "\n",
       "               mean mmol_per_gDWh  abs_mean mmol_per_gDWh      stdev  \\\n",
       "rid                                                                    \n",
       "ATPS4rpp_iso1           48.587854               48.587854  14.075611   \n",
       "H2Otpp_REV              40.622445               40.622445  29.250112   \n",
       "CYTBO3_4pp              36.506760               36.506760  18.778357   \n",
       "\n",
       "                 Acetate   Glycerol   Fructose   L-Malate    Glucose  \\\n",
       "rid                                                                    \n",
       "ATPS4rpp_iso1  46.119180  55.250156  34.702042  53.089517  70.072027   \n",
       "H2Otpp_REV     22.869847  48.682121  29.427506  32.561850  95.645568   \n",
       "CYTBO3_4pp     30.815127  33.887307  26.009866  29.454886  74.231822   \n",
       "\n",
       "               Glucose 6-Phosphate  \n",
       "rid                                 \n",
       "ATPS4rpp_iso1            32.294203  \n",
       "H2Otpp_REV               14.547780  \n",
       "CYTBO3_4pp               24.641551  "
      ]
     },
     "execution_count": 13,
     "metadata": {},
     "output_type": "execute_result"
    }
   ],
   "source": [
    "df_fluxes = er.collect_fluxes()\n",
    "print(f'{len(df_fluxes)} sub-reaction fluxes')\n",
    "df_fluxes.head(3)"
   ]
  },
  {
   "cell_type": "code",
   "execution_count": 14,
   "metadata": {},
   "outputs": [
    {
     "name": "stdout",
     "output_type": "stream",
     "text": [
      "2712 net reaction fluxes\n"
     ]
    },
    {
     "data": {
      "text/html": [
       "<div>\n",
       "<style scoped>\n",
       "    .dataframe tbody tr th:only-of-type {\n",
       "        vertical-align: middle;\n",
       "    }\n",
       "\n",
       "    .dataframe tbody tr th {\n",
       "        vertical-align: top;\n",
       "    }\n",
       "\n",
       "    .dataframe thead th {\n",
       "        text-align: right;\n",
       "    }\n",
       "</style>\n",
       "<table border=\"1\" class=\"dataframe\">\n",
       "  <thead>\n",
       "    <tr style=\"text-align: right;\">\n",
       "      <th></th>\n",
       "      <th>reaction_str</th>\n",
       "      <th>gpr</th>\n",
       "      <th>rank</th>\n",
       "      <th>mean mmol_per_gDWh</th>\n",
       "      <th>abs_mean mmol_per_gDWh</th>\n",
       "      <th>stdev</th>\n",
       "      <th>Acetate</th>\n",
       "      <th>Glycerol</th>\n",
       "      <th>Fructose</th>\n",
       "      <th>L-Malate</th>\n",
       "      <th>Glucose</th>\n",
       "      <th>Glucose 6-Phosphate</th>\n",
       "    </tr>\n",
       "    <tr>\n",
       "      <th>rid</th>\n",
       "      <th></th>\n",
       "      <th></th>\n",
       "      <th></th>\n",
       "      <th></th>\n",
       "      <th></th>\n",
       "      <th></th>\n",
       "      <th></th>\n",
       "      <th></th>\n",
       "      <th></th>\n",
       "      <th></th>\n",
       "      <th></th>\n",
       "      <th></th>\n",
       "    </tr>\n",
       "  </thead>\n",
       "  <tbody>\n",
       "    <tr>\n",
       "      <th>ATPS4rpp</th>\n",
       "      <td>adp_c + 4.0 h_p + pi_c -&gt; atp_c + h2o_c + 3.0 h_c</td>\n",
       "      <td>b3731 + b3732 + b3733 + b3734 + b3735 + b3736 ...</td>\n",
       "      <td>1</td>\n",
       "      <td>48.587854</td>\n",
       "      <td>48.587854</td>\n",
       "      <td>14.075611</td>\n",
       "      <td>46.119180</td>\n",
       "      <td>55.250156</td>\n",
       "      <td>34.702042</td>\n",
       "      <td>53.089517</td>\n",
       "      <td>70.072027</td>\n",
       "      <td>32.294203</td>\n",
       "    </tr>\n",
       "    <tr>\n",
       "      <th>H2Otpp</th>\n",
       "      <td>h2o_p -&gt; h2o_c</td>\n",
       "      <td>b0875</td>\n",
       "      <td>2</td>\n",
       "      <td>-40.622445</td>\n",
       "      <td>40.622445</td>\n",
       "      <td>29.250112</td>\n",
       "      <td>-22.869847</td>\n",
       "      <td>-48.682121</td>\n",
       "      <td>-29.427506</td>\n",
       "      <td>-32.561850</td>\n",
       "      <td>-95.645568</td>\n",
       "      <td>-14.547780</td>\n",
       "    </tr>\n",
       "    <tr>\n",
       "      <th>CYTBO3_4pp</th>\n",
       "      <td>4.0 h_c + 0.5 o2_c + q8h2_c =&gt; h2o_c + 4.0 h_p...</td>\n",
       "      <td>b0432 + b0431 + b0429 + b0430</td>\n",
       "      <td>3</td>\n",
       "      <td>36.506760</td>\n",
       "      <td>36.506760</td>\n",
       "      <td>18.778357</td>\n",
       "      <td>30.815127</td>\n",
       "      <td>33.887307</td>\n",
       "      <td>26.009866</td>\n",
       "      <td>29.454886</td>\n",
       "      <td>74.231822</td>\n",
       "      <td>24.641551</td>\n",
       "    </tr>\n",
       "  </tbody>\n",
       "</table>\n",
       "</div>"
      ],
      "text/plain": [
       "                                                 reaction_str  \\\n",
       "rid                                                             \n",
       "ATPS4rpp    adp_c + 4.0 h_p + pi_c -> atp_c + h2o_c + 3.0 h_c   \n",
       "H2Otpp                                         h2o_p -> h2o_c   \n",
       "CYTBO3_4pp  4.0 h_c + 0.5 o2_c + q8h2_c => h2o_c + 4.0 h_p...   \n",
       "\n",
       "                                                          gpr  rank  \\\n",
       "rid                                                                   \n",
       "ATPS4rpp    b3731 + b3732 + b3733 + b3734 + b3735 + b3736 ...     1   \n",
       "H2Otpp                                                  b0875     2   \n",
       "CYTBO3_4pp                      b0432 + b0431 + b0429 + b0430     3   \n",
       "\n",
       "            mean mmol_per_gDWh  abs_mean mmol_per_gDWh      stdev    Acetate  \\\n",
       "rid                                                                            \n",
       "ATPS4rpp             48.587854               48.587854  14.075611  46.119180   \n",
       "H2Otpp              -40.622445               40.622445  29.250112 -22.869847   \n",
       "CYTBO3_4pp           36.506760               36.506760  18.778357  30.815127   \n",
       "\n",
       "             Glycerol   Fructose   L-Malate    Glucose  Glucose 6-Phosphate  \n",
       "rid                                                                          \n",
       "ATPS4rpp    55.250156  34.702042  53.089517  70.072027            32.294203  \n",
       "H2Otpp     -48.682121 -29.427506 -32.561850 -95.645568           -14.547780  \n",
       "CYTBO3_4pp  33.887307  26.009866  29.454886  74.231822            24.641551  "
      ]
     },
     "execution_count": 14,
     "metadata": {},
     "output_type": "execute_result"
    }
   ],
   "source": [
    "df_net_fluxes = er.collect_fluxes(net=True)\n",
    "print(f'{len(df_net_fluxes)} net reaction fluxes')\n",
    "df_net_fluxes.head(3)"
   ]
  },
  {
   "cell_type": "markdown",
   "metadata": {},
   "source": [
    "### retrieve protein concentrations\n",
    "\n",
    "`collect_protein_results()` collects predicted protein concentrations in milligram protein per gram total protein. Additional information columns, containing UniProt id, gene name, description and molecular weight in kilo dalton, are included."
   ]
  },
  {
   "cell_type": "code",
   "execution_count": 15,
   "metadata": {
    "scrolled": true
   },
   "outputs": [
    {
     "name": "stdout",
     "output_type": "stream",
     "text": [
      "1515 proteins\n"
     ]
    },
    {
     "data": {
      "text/html": [
       "<div>\n",
       "<style scoped>\n",
       "    .dataframe tbody tr th:only-of-type {\n",
       "        vertical-align: middle;\n",
       "    }\n",
       "\n",
       "    .dataframe tbody tr th {\n",
       "        vertical-align: top;\n",
       "    }\n",
       "\n",
       "    .dataframe thead th {\n",
       "        text-align: right;\n",
       "    }\n",
       "</style>\n",
       "<table border=\"1\" class=\"dataframe\">\n",
       "  <thead>\n",
       "    <tr style=\"text-align: right;\">\n",
       "      <th></th>\n",
       "      <th>uniprot</th>\n",
       "      <th>gene_name</th>\n",
       "      <th>description</th>\n",
       "      <th>mw_kDa</th>\n",
       "      <th>exp_avg_mpmf</th>\n",
       "      <th>exp_rank</th>\n",
       "      <th>pred_rank</th>\n",
       "      <th>mean mg_per_gP</th>\n",
       "      <th>stdev</th>\n",
       "      <th>Acetate</th>\n",
       "      <th>Glycerol</th>\n",
       "      <th>Fructose</th>\n",
       "      <th>L-Malate</th>\n",
       "      <th>Glucose</th>\n",
       "      <th>Glucose 6-Phosphate</th>\n",
       "    </tr>\n",
       "    <tr>\n",
       "      <th>gene</th>\n",
       "      <th></th>\n",
       "      <th></th>\n",
       "      <th></th>\n",
       "      <th></th>\n",
       "      <th></th>\n",
       "      <th></th>\n",
       "      <th></th>\n",
       "      <th></th>\n",
       "      <th></th>\n",
       "      <th></th>\n",
       "      <th></th>\n",
       "      <th></th>\n",
       "      <th></th>\n",
       "      <th></th>\n",
       "      <th></th>\n",
       "    </tr>\n",
       "  </thead>\n",
       "  <tbody>\n",
       "    <tr>\n",
       "      <th>b3734</th>\n",
       "      <td>P0ABB0</td>\n",
       "      <td>atpA</td>\n",
       "      <td>ATP synthase subunit alpha</td>\n",
       "      <td>55.169737</td>\n",
       "      <td>6.830973</td>\n",
       "      <td>26.0</td>\n",
       "      <td>1</td>\n",
       "      <td>39.623110</td>\n",
       "      <td>11.478578</td>\n",
       "      <td>37.609920</td>\n",
       "      <td>45.056178</td>\n",
       "      <td>28.299312</td>\n",
       "      <td>43.294189</td>\n",
       "      <td>57.143326</td>\n",
       "      <td>26.335733</td>\n",
       "    </tr>\n",
       "    <tr>\n",
       "      <th>b3732</th>\n",
       "      <td>P0ABB4</td>\n",
       "      <td>atpD</td>\n",
       "      <td>ATP synthase subunit beta</td>\n",
       "      <td>50.275819</td>\n",
       "      <td>8.793626</td>\n",
       "      <td>16.0</td>\n",
       "      <td>2</td>\n",
       "      <td>36.109395</td>\n",
       "      <td>10.460676</td>\n",
       "      <td>34.274732</td>\n",
       "      <td>41.060667</td>\n",
       "      <td>25.789773</td>\n",
       "      <td>39.454928</td>\n",
       "      <td>52.075946</td>\n",
       "      <td>24.000322</td>\n",
       "    </tr>\n",
       "    <tr>\n",
       "      <th>b3114</th>\n",
       "      <td>P42632</td>\n",
       "      <td>tdcE</td>\n",
       "      <td>Keto-acid formate acetyltransferase</td>\n",
       "      <td>85.863190</td>\n",
       "      <td>0.003034</td>\n",
       "      <td>1881.0</td>\n",
       "      <td>3</td>\n",
       "      <td>25.605168</td>\n",
       "      <td>21.874114</td>\n",
       "      <td>0.000000</td>\n",
       "      <td>9.498485</td>\n",
       "      <td>45.071620</td>\n",
       "      <td>54.492306</td>\n",
       "      <td>11.287286</td>\n",
       "      <td>33.281308</td>\n",
       "    </tr>\n",
       "  </tbody>\n",
       "</table>\n",
       "</div>"
      ],
      "text/plain": [
       "      uniprot gene_name                          description     mw_kDa  \\\n",
       "gene                                                                      \n",
       "b3734  P0ABB0      atpA           ATP synthase subunit alpha  55.169737   \n",
       "b3732  P0ABB4      atpD            ATP synthase subunit beta  50.275819   \n",
       "b3114  P42632      tdcE  Keto-acid formate acetyltransferase  85.863190   \n",
       "\n",
       "       exp_avg_mpmf  exp_rank  pred_rank  mean mg_per_gP      stdev  \\\n",
       "gene                                                                  \n",
       "b3734      6.830973      26.0          1       39.623110  11.478578   \n",
       "b3732      8.793626      16.0          2       36.109395  10.460676   \n",
       "b3114      0.003034    1881.0          3       25.605168  21.874114   \n",
       "\n",
       "         Acetate   Glycerol   Fructose   L-Malate    Glucose  \\\n",
       "gene                                                           \n",
       "b3734  37.609920  45.056178  28.299312  43.294189  57.143326   \n",
       "b3732  34.274732  41.060667  25.789773  39.454928  52.075946   \n",
       "b3114   0.000000   9.498485  45.071620  54.492306  11.287286   \n",
       "\n",
       "       Glucose 6-Phosphate  \n",
       "gene                        \n",
       "b3734            26.335733  \n",
       "b3732            24.000322  \n",
       "b3114            33.281308  "
      ]
     },
     "execution_count": 15,
     "metadata": {},
     "output_type": "execute_result"
    }
   ],
   "source": [
    "df_proteins = er.collect_protein_results()\n",
    "print(f'{len(df_proteins)} proteins')\n",
    "df_proteins.head(3)"
   ]
  },
  {
   "cell_type": "markdown",
   "metadata": {},
   "source": [
    "### correlation with measured data\n",
    "\n",
    "Correlation between predicted and measured data can be reported by f2xba methods. Based on a linear regression model, the squared Pearson correlation coefficient (Coefficient of Determination) and the p-value are printed to the console.\n",
    "\n",
    "- `report_gr_correlation()` compares predicted to measured growth rates. Measured growth rate data is provided in a dictionary 'exp_grs'.\n",
    "- `report_proteomics_correlation()` compares predicted to measured protein concentrations. Measured proteomics data was provided at instantiation of EcmResults. Protein concentrations can be compared in linear scale (`scale='lin'`) and log scale (`scale='log'`). For log scale reporting, records with protein concentrations < 10e-6 mg/gP removed. \n",
    "- `report_protein_levels()`: generates a detailed reporting for one selected condition."
   ]
  },
  {
   "cell_type": "code",
   "execution_count": 16,
   "metadata": {},
   "outputs": [
    {
     "name": "stdout",
     "output_type": "stream",
     "text": [
      "predicted grs (6) vs. experiment: r2 = 0.7681, p = 2.20e-02, relative error = 11.45%\n"
     ]
    }
   ],
   "source": [
    "er.report_gr_correlation(exp_grs)"
   ]
  },
  {
   "cell_type": "code",
   "execution_count": 17,
   "metadata": {},
   "outputs": [
    {
     "name": "stdout",
     "output_type": "stream",
     "text": [
      "Acetate                  : r² = 0.0631, p = 4.07e-16 (1018 proteins lin scale)\n",
      "Glycerol                 : r² = 0.0532, p = 9.12e-14 (1018 proteins lin scale)\n",
      "Fructose                 : r² = 0.1060, p = 1.42e-26 (1018 proteins lin scale)\n",
      "Glucose                  : r² = 0.0332, p = 4.66e-09 (1018 proteins lin scale)\n",
      "Acetate                  : r² = 0.1808, p = 7.24e-15 ( 306 proteins log scale)\n",
      "Glycerol                 : r² = 0.1569, p = 5.65e-13 ( 307 proteins log scale)\n",
      "Fructose                 : r² = 0.1556, p = 9.21e-13 ( 304 proteins log scale)\n",
      "Glucose                  : r² = 0.1897, p = 3.15e-15 ( 298 proteins log scale)\n"
     ]
    }
   ],
   "source": [
    "er.report_proteomics_correlation(scale='lin')\n",
    "er.report_proteomics_correlation(scale='log')"
   ]
  },
  {
   "cell_type": "code",
   "execution_count": 18,
   "metadata": {},
   "outputs": [
    {
     "name": "stdout",
     "output_type": "stream",
     "text": [
      "condition: Glucose\n",
      "1515 proteins in model with total predicted mass fraction of 555.7 mg/gP\n",
      "     1018 have been measured with mpmf of  555.6 mg/gP vs. 426.5 mg/gP predicted\n",
      "           777 metabolic proteins measured 423.9 mg/gP vs. 181.3 mg/gP predicted\n",
      "           241 transport proteins measured 131.7 mg/gP vs. 245.2 mg/gP predicted\n",
      "      497 proteins not measured vs. 129.2 mg/gP predicted\n",
      "           497 actual  proteins     129.2 mg/gP predicted\n",
      "total           : r² = 0.0332, p = 4.66e-09 (1018 proteins lin scale)\n",
      " metabolic      : r² = 0.0697, p = 7.56e-14 ( 777 proteins lin scale)\n",
      " transport      : r² = 0.0457, p = 8.42e-04 ( 241 proteins lin scale)\n",
      "total           : r² = 0.1897, p = 3.15e-15 ( 298 proteins log scale)\n",
      " metabolic      : r² = 0.2035, p = 1.10e-14 ( 265 proteins log scale)\n",
      " transport      : r² = 0.2163, p = 6.39e-03 (  33 proteins log scale)\n"
     ]
    }
   ],
   "source": [
    "er.report_protein_levels('Glucose')"
   ]
  },
  {
   "cell_type": "markdown",
   "metadata": {},
   "source": [
    "### correlation plots\n",
    "\n",
    "In most cases it is helpful to visualize data. Plots are generated by f2xba using `matplotlib. \n",
    "\n",
    "`plot_grs()` plots predicted vs. measured growth rates. The diagonal is plotted and the linear correlation line (red).\n",
    "Measured growth rates are provided as a parameter. Several optional parameters can be provided:\n",
    "- `highlight`: highlight the data point for the selected condition.\n",
    "- `gr_max`: define the maximum growth rate.\n",
    "- `plot_fname`: file name for the plot.\n",
    "\n",
    "`plot_proteins()` generates two plots for the selected condition. A linear plot and a log10 plot. Data points are colored as per protein type. Optional parameters are:\n",
    "- `lin_max`: define the maximum mass fraction for the linear plot.\n",
    "- `plot_fname`: file name for the plot."
   ]
  },
  {
   "cell_type": "code",
   "execution_count": 19,
   "metadata": {},
   "outputs": [
    {
     "data": {
      "image/png": "[encoded data removed]",
      "text/plain": [
       "<Figure size 400x247.2 with 1 Axes>"
      ]
     },
     "metadata": {},
     "output_type": "display_data"
    }
   ],
   "source": [
    "er.plot_grs(exp_grs, highlight='Glucose')"
   ]
  },
  {
   "cell_type": "code",
   "execution_count": 20,
   "metadata": {
    "scrolled": true
   },
   "outputs": [
    {
     "data": {
      "image/png": "[encoded data removed]",
      "text/plain": [
       "<Figure size 800x247.2 with 2 Axes>"
      ]
     },
     "metadata": {},
     "output_type": "display_data"
    }
   ],
   "source": [
    "er.plot_proteins('Glucose', plot_fname=os.path.join('plots', f'{target_model}_proteins_Glucose.pdf'))    "
   ]
  },
  {
   "cell_type": "markdown",
   "metadata": {},
   "source": [
    "### Display results in Escher Maps\n",
    "\n",
    "Escher is a great tool to visualize flux distributions in a network context. Protein and metabolite levels can be displayed as well. Visual inspection of active/inactive pathways and reactions helps qualifying the optimization results. f2xba provides a method for exporting optimization results in a format, that can easily be loaded into Escher maps.\n",
    "\n",
    "`save_to_escher()` exports optimization results to files readable by the Escher web portal. Records with absolute values < 10-8 are not exported. Files can be created for all or for selected conditions. Filenames are constructed from the base name provided. Here we export net fluxes for all conditions and protein concentrations for Glucose.\n",
    "\n",
    "To visualize our optimization results on Escher, access their web portal (https://escher.github.io), select the map `Central metabolism (iJO1366)` and load the map. Once the network map is displayed, select `Data -> Load reaction data` and select one of the exported files in `./Escher`, e.g. `iML1515_default_GECKO_Glucose_reaction_data.json`.\n",
    "\n",
    "Escher Maps for **other organisms**:\n",
    "\n",
    "As we work with iML1515, we rather prefer network maps created from iML1515. Using the Escher web portal, it is not too difficult to generate maps for other organisms either from scratch or by updating existing maps. Escher documentation describes how."
   ]
  },
  {
   "cell_type": "code",
   "execution_count": 21,
   "metadata": {},
   "outputs": [
    {
     "name": "stdout",
     "output_type": "stream",
     "text": [
      "6 file(s) exported for \"Load reaction data\" into Escher maps\n",
      "1 file(s) exported for \"Load gene data\" into Escher maps\n"
     ]
    }
   ],
   "source": [
    "er.save_to_escher(df_net_fluxes, os.path.join('escher', target_model))\n",
    "er.save_to_escher(df_proteins['Glucose'], os.path.join('escher', target_model))"
   ]
  },
  {
   "cell_type": "markdown",
   "metadata": {},
   "source": [
    "## Step 6: Track progress\n",
    "Let us track how well this and our upcoming extended models can predict protein concentrations when compared to measurements. We track improvements for our reference condition Glucose.\n",
    "\n",
    "Below code section is not relevant for extended model generations. We just use it in this and upcoming tutorials to track the results of our model modifications."
   ]
  },
  {
   "cell_type": "code",
   "execution_count": 22,
   "metadata": {},
   "outputs": [
    {
     "name": "stdout",
     "output_type": "stream",
     "text": [
      "1 table(s) with parameters written to  protein_predictions.xlsx\n"
     ]
    },
    {
     "data": {
      "text/html": [
       "<div>\n",
       "<style scoped>\n",
       "    .dataframe tbody tr th:only-of-type {\n",
       "        vertical-align: middle;\n",
       "    }\n",
       "\n",
       "    .dataframe tbody tr th {\n",
       "        vertical-align: top;\n",
       "    }\n",
       "\n",
       "    .dataframe thead th {\n",
       "        text-align: right;\n",
       "    }\n",
       "</style>\n",
       "<table border=\"1\" class=\"dataframe\">\n",
       "  <thead>\n",
       "    <tr style=\"text-align: right;\">\n",
       "      <th></th>\n",
       "      <th>model</th>\n",
       "      <th>lin r2</th>\n",
       "      <th>log r2</th>\n",
       "      <th>lin proteins</th>\n",
       "      <th>log proteins</th>\n",
       "    </tr>\n",
       "    <tr>\n",
       "      <th>No</th>\n",
       "      <th></th>\n",
       "      <th></th>\n",
       "      <th></th>\n",
       "      <th></th>\n",
       "      <th></th>\n",
       "    </tr>\n",
       "  </thead>\n",
       "  <tbody>\n",
       "    <tr>\n",
       "      <th>1</th>\n",
       "      <td>iML1515_default_GECKO</td>\n",
       "      <td>0.033238</td>\n",
       "      <td>0.189723</td>\n",
       "      <td>1018</td>\n",
       "      <td>298</td>\n",
       "    </tr>\n",
       "  </tbody>\n",
       "</table>\n",
       "</div>"
      ],
      "text/plain": [
       "                    model    lin r2    log r2  lin proteins  log proteins\n",
       "No                                                                       \n",
       "1   iML1515_default_GECKO  0.033238  0.189723          1018           298"
      ]
     },
     "execution_count": 22,
     "metadata": {},
     "output_type": "execute_result"
    }
   ],
   "source": [
    "import scipy\n",
    "import numpy as np\n",
    "\n",
    "number = 1\n",
    "xy = np.array([[df_mpmf.at[gene, reference_cond], df_proteins.at[gene, reference_cond]] \n",
    "                for gene in df_proteins.index if gene in df_mpmf.index])\n",
    "log10_x, log10_y = er.get_log10_xy(xy)\n",
    "lin_pearson_r, _ = scipy.stats.pearsonr(xy[:, 0], xy[:, 1])\n",
    "log_pearson_r, _ = scipy.stats.pearsonr(log10_x, log10_y)\n",
    "\n",
    "predictions = {}\n",
    "data = [[number, target_model, lin_pearson_r**2,log_pearson_r**2, len(xy), len(log10_x)]]\n",
    "cols = ['No', 'model', 'lin r2', 'log r2', 'lin proteins', 'log proteins']\n",
    "predictions[reference_cond] = pd.DataFrame(data, columns=cols).set_index('No')\n",
    "write_parameter_file('protein_predictions.xlsx', predictions)\n",
    "predictions[reference_cond]"
   ]
  },
  {
   "cell_type": "markdown",
   "metadata": {},
   "source": [
    "## Closing Remarks\n",
    "We created a first GECKO model by extending the genome scale metabolic model iML1515 of *E. coli*. Most of the additional parameters required for GECKO were configured with default values and values automatically collected from online resources. We loaded the model in COBRApy and optimized it for maximal growth rate across different growth media conditions. \n",
    "\n",
    "While predicted growth rates correlate well with measured growth rates, the correlation of predicted to measured protein concentrations is not very good. E.g., in the linear protein correlation plot we can man proteins where predicted concentrations are far off from the measured values, especially for transport related proteins. \n",
    "\n",
    "In the next tutorial we start improving our initial GECKO model by modifying some of the parameters related to transporters. Instead of setting a single default value for all transport reactions, we will configure different kcat values depending on type of transporter. We also redefine some transporter related enzyme compositions. This, hopefully, shall improve our protein predictions.\n",
    "\n",
    "So, stay tuned."
   ]
  },
  {
   "cell_type": "markdown",
   "metadata": {},
   "source": [
    "---\n",
    "---\n",
    "##  (alternatively) Load and optimize GECKO model (gurobipy)\n",
    "\n",
    "Should you have installed gurobipy and Gurobi, you can use an alternative interface for optimization, which can be significantly faster, as it avoids the overhead imposed by COBRApy. The codes for model loading and optimization change slightly from the COBRApy interface. Results analysis does not change.\n",
    "\n",
    "Media conditions and proteomics data should already be loaded.\n",
    "\n",
    "Below we will describe:\n",
    "A.1 model loading (guropipy)\n",
    "A.2 model optimization (gurobipy)\n",
    "A.3 results analysis"
   ]
  },
  {
   "cell_type": "markdown",
   "metadata": {},
   "source": [
    "### A.1 model loading (gurobipy)\n",
    "Different to the COBRApy interface, our extended model is only loaded by `EcmOptimization`. The COBRApy method ‘ecm.reactions.get_by_id()’ cannot be used, instead use `eo.get_variable_bounds()`, which returns the variable bounds for a single variable or a list of variables."
   ]
  },
  {
   "cell_type": "code",
   "execution_count": 23,
   "metadata": {
    "scrolled": true
   },
   "outputs": [
    {
     "name": "stdout",
     "output_type": "stream",
     "text": [
      "SBML model loaded by sbmlxdf: SBML_models/iML1515_default_GECKO.xml (Fri Feb  7 15:11:01 2025)\n",
      "LP Model of iML1515_GECKO\n",
      "7372 variables, 3393 constraints, 28650 non-zero matrix coefficients\n",
      "total modeled protein: 316.75 mg/gDW, average saturation level: 0.99\n",
      "1515 genes: (498) transporter, (1017) metabolic\n"
     ]
    }
   ],
   "source": [
    "# Load model using gurobipy\n",
    "fname = os.path.join('SBML_models', f'{target_model}.xml')\n",
    "eo = EcmOptimization(fname)                              # ! gurobipy interface\n",
    "total_protein = eo.get_variable_bounds('V_PC_total')[1]  # ! gurobipy interface\n",
    "sigma = eo.avg_enz_saturation\n",
    "all_genes = set(eo.m_dict['fbcGeneProducts']['label'].values)\n",
    "tx_genes, metab_genes = eo.get_tx_metab_genes()\n",
    "print(f'total modeled protein: {total_protein:.2f} mg/gDW, average saturation level: {sigma}')\n",
    "print(f'{len(all_genes)} genes: ({len(tx_genes)}) transporter, ({len(metab_genes)}) metabolic')"
   ]
  },
  {
   "cell_type": "markdown",
   "metadata": {},
   "source": [
    "### A.2 model optimization (gurobipy)\n",
    "Within the optimization loop, use `eo.set_medium()` to configure the medium and `eo.optimize()` for optimization. A model context ('with' statement) is not supported."
   ]
  },
  {
   "cell_type": "code",
   "execution_count": 24,
   "metadata": {},
   "outputs": [
    {
     "name": "stdout",
     "output_type": "stream",
     "text": [
      "Acetate                  : pred gr: 0.261 h-1 vs. exp 0.290, diff: -0.029\n",
      "Glycerol                 : pred gr: 0.569 h-1 vs. exp 0.470, diff:  0.099\n",
      "Fructose                 : pred gr: 0.575 h-1 vs. exp 0.540, diff:  0.035\n",
      "L-Malate                 : pred gr: 0.603 h-1 vs. exp 0.550, diff:  0.053\n",
      "Glucose                  : pred gr: 0.691 h-1 vs. exp 0.660, diff:  0.031\n",
      "Glucose 6-Phosphate      : pred gr: 0.648 h-1 vs. exp 0.780, diff: -0.132\n"
     ]
    }
   ],
   "source": [
    "# Optimize model using gurobipy\n",
    "pred_results = {}\n",
    "for cond, medium in conditions.items():\n",
    "    eo.set_medium(medium)                   # ! gurobipy interface\n",
    "    solution = eo.optimize()                # ! gurobipy interface\n",
    "    if solution.status == 'optimal':\n",
    "        gr = solution.objective_value\n",
    "        pred_results[cond] = solution\n",
    "        print(f'{cond:25s}: pred gr: {gr:.3f} h-1 vs. exp {exp_grs[cond]:.3f}, diff: {gr - exp_grs[cond]:6.3f}')\n",
    "    else:    \n",
    "        print(f'{cond} ended with status {solution.status}')"
   ]
  },
  {
   "cell_type": "markdown",
   "metadata": {},
   "source": [
    "### A.3 results analysis\n",
    "This code section is identical to the results analysis used for COBRApy interface."
   ]
  },
  {
   "cell_type": "code",
   "execution_count": 25,
   "metadata": {},
   "outputs": [
    {
     "data": {
      "image/png": "[encoded data removed]",
      "text/plain": [
       "<Figure size 400x247.2 with 1 Axes>"
      ]
     },
     "metadata": {},
     "output_type": "display_data"
    },
    {
     "name": "stdout",
     "output_type": "stream",
     "text": [
      "Protein mass fractions:\n",
      "Acetate                  : r² = 0.0631, p = 4.07e-16 (1018 proteins lin scale)\n",
      "Glycerol                 : r² = 0.0532, p = 9.12e-14 (1018 proteins lin scale)\n",
      "Fructose                 : r² = 0.1060, p = 1.42e-26 (1018 proteins lin scale)\n",
      "Glucose                  : r² = 0.0332, p = 4.66e-09 (1018 proteins lin scale)\n",
      "Acetate                  : r² = 0.1808, p = 7.24e-15 ( 306 proteins log scale)\n",
      "Glycerol                 : r² = 0.1569, p = 5.65e-13 ( 307 proteins log scale)\n",
      "Fructose                 : r² = 0.1556, p = 9.21e-13 ( 304 proteins log scale)\n",
      "Glucose                  : r² = 0.1897, p = 3.15e-15 ( 298 proteins log scale)\n",
      "\n",
      "condition: Glucose\n",
      "1515 proteins in model with total predicted mass fraction of 555.7 mg/gP\n",
      "     1018 have been measured with mpmf of  555.6 mg/gP vs. 426.5 mg/gP predicted\n",
      "           777 metabolic proteins measured 423.9 mg/gP vs. 181.3 mg/gP predicted\n",
      "           241 transport proteins measured 131.7 mg/gP vs. 245.2 mg/gP predicted\n",
      "      497 proteins not measured vs. 129.2 mg/gP predicted\n",
      "           497 actual  proteins     129.2 mg/gP predicted\n",
      "total           : r² = 0.0332, p = 4.66e-09 (1018 proteins lin scale)\n",
      " metabolic      : r² = 0.0697, p = 7.56e-14 ( 777 proteins lin scale)\n",
      " transport      : r² = 0.0457, p = 8.42e-04 ( 241 proteins lin scale)\n",
      "total           : r² = 0.1897, p = 3.15e-15 ( 298 proteins log scale)\n",
      " metabolic      : r² = 0.2035, p = 1.10e-14 ( 265 proteins log scale)\n",
      " transport      : r² = 0.2163, p = 6.39e-03 (  33 proteins log scale)\n"
     ]
    },
    {
     "data": {
      "image/png": "[encoded data removed]",
      "text/plain": [
       "<Figure size 800x247.2 with 2 Axes>"
      ]
     },
     "metadata": {},
     "output_type": "display_data"
    },
    {
     "name": "stdout",
     "output_type": "stream",
     "text": [
      "1 file(s) exported for \"Load reaction data\" into Escher maps\n"
     ]
    }
   ],
   "source": [
    "# Analyse results\n",
    "er = EcmResults(eo, pred_results, df_mpmf)\n",
    "df_fluxes = er.collect_fluxes()\n",
    "df_net_fluxes = er.collect_fluxes(net=True)\n",
    "df_proteins = er.collect_protein_results()\n",
    "er.plot_grs(exp_grs, highlight='Glucose')\n",
    "print(f'Protein mass fractions:')\n",
    "er.report_proteomics_correlation(scale='lin')\n",
    "er.report_proteomics_correlation(scale='log')\n",
    "print()\n",
    "er.report_protein_levels('Glucose')\n",
    "er.plot_proteins('Glucose', plot_fname=os.path.join('plots', f'{target_model}_proteins_Glucose.pdf'))    \n",
    "er.save_to_escher(df_net_fluxes['Glucose'], os.path.join('escher', target_model))"
   ]
  },
  {
   "cell_type": "code",
   "execution_count": null,
   "metadata": {},
   "outputs": [],
   "source": []
  }
 ],
 "metadata": {
  "kernelspec": {
   "display_name": "Python 3.11 (ipykernel)",
   "language": "python",
   "name": "python3"
  },
  "language_info": {
   "codemirror_mode": {
    "name": "ipython",
    "version": 3
   },
   "file_extension": ".py",
   "mimetype": "text/x-python",
   "name": "python",
   "nbconvert_exporter": "python",
   "pygments_lexer": "ipython3",
   "version": "3.11.2"
  }
 },
 "nbformat": 4,
 "nbformat_minor": 4
}
